{
 "cells": [
  {
   "cell_type": "markdown",
   "id": "22f8bbcb-b2e8-4d3a-a58c-ff30342f1ed0",
   "metadata": {},
   "source": []
  },
  {
   "cell_type": "code",
   "execution_count": 1,
   "id": "f62a8aae-cb12-4f70-987f-f2e6cd2638a2",
   "metadata": {},
   "outputs": [],
   "source": [
    "l=[]"
   ]
  },
  {
   "cell_type": "code",
   "execution_count": 3,
   "id": "f71d1db9-add7-4cd6-8127-aa9e189eda23",
   "metadata": {},
   "outputs": [
    {
     "data": {
      "text/plain": [
       "list"
      ]
     },
     "execution_count": 3,
     "metadata": {},
     "output_type": "execute_result"
    }
   ],
   "source": [
    "type(l)"
   ]
  },
  {
   "cell_type": "code",
   "execution_count": 4,
   "id": "ccc737f7-82d1-4fde-a624-b1472a0e96c1",
   "metadata": {},
   "outputs": [],
   "source": [
    "a=[]"
   ]
  },
  {
   "cell_type": "code",
   "execution_count": 5,
   "id": "d69c20ef-98a4-495d-a013-82e55a3c747d",
   "metadata": {},
   "outputs": [
    {
     "data": {
      "text/plain": [
       "list"
      ]
     },
     "execution_count": 5,
     "metadata": {},
     "output_type": "execute_result"
    }
   ],
   "source": [
    "type(a)"
   ]
  },
  {
   "cell_type": "code",
   "execution_count": 11,
   "id": "5d9835c1-63ba-4781-8145-9d3b970e0365",
   "metadata": {},
   "outputs": [],
   "source": [
    "a=[1,67,34  ,\"Dipti\", 56.7, \"Aditi\", 678]"
   ]
  },
  {
   "cell_type": "code",
   "execution_count": 8,
   "id": "93f1311e-a4cb-4397-94cf-74fc5814300b",
   "metadata": {},
   "outputs": [],
   "source": [
    "# Access 56.7 from a"
   ]
  },
  {
   "cell_type": "code",
   "execution_count": 12,
   "id": "c5d9a8b4-e210-4c5a-ade9-db52244cee66",
   "metadata": {},
   "outputs": [
    {
     "data": {
      "text/plain": [
       "56.7"
      ]
     },
     "execution_count": 12,
     "metadata": {},
     "output_type": "execute_result"
    }
   ],
   "source": [
    "a[4]"
   ]
  },
  {
   "cell_type": "code",
   "execution_count": 13,
   "id": "50167aa3-3a83-49d3-bf38-965fa7037e87",
   "metadata": {},
   "outputs": [
    {
     "data": {
      "text/plain": [
       "'Dipti'"
      ]
     },
     "execution_count": 13,
     "metadata": {},
     "output_type": "execute_result"
    }
   ],
   "source": [
    "a[-4]"
   ]
  },
  {
   "cell_type": "code",
   "execution_count": 14,
   "id": "24752d1b-bc58-4a48-b383-1f9695f6568b",
   "metadata": {},
   "outputs": [
    {
     "data": {
      "text/plain": [
       "'Dipti'"
      ]
     },
     "execution_count": 14,
     "metadata": {},
     "output_type": "execute_result"
    }
   ],
   "source": [
    "a[3]"
   ]
  },
  {
   "cell_type": "code",
   "execution_count": 15,
   "id": "d4eb121d-d314-4c8d-a68e-e3cb11024dde",
   "metadata": {},
   "outputs": [
    {
     "data": {
      "text/plain": [
       "34"
      ]
     },
     "execution_count": 15,
     "metadata": {},
     "output_type": "execute_result"
    }
   ],
   "source": [
    "a[-5]"
   ]
  },
  {
   "cell_type": "code",
   "execution_count": 16,
   "id": "f7ea45f7-7743-446a-9e72-fb380d6ced08",
   "metadata": {},
   "outputs": [
    {
     "data": {
      "text/plain": [
       "1"
      ]
     },
     "execution_count": 16,
     "metadata": {},
     "output_type": "execute_result"
    }
   ],
   "source": [
    "a[0]"
   ]
  },
  {
   "cell_type": "code",
   "execution_count": 17,
   "id": "61147df3-e62c-4002-9569-1a69fb8837ca",
   "metadata": {},
   "outputs": [
    {
     "data": {
      "text/plain": [
       "34"
      ]
     },
     "execution_count": 17,
     "metadata": {},
     "output_type": "execute_result"
    }
   ],
   "source": [
    "a[-5]"
   ]
  },
  {
   "cell_type": "code",
   "execution_count": 18,
   "id": "8141c29a-560e-451e-aeb3-059792d301d2",
   "metadata": {},
   "outputs": [
    {
     "data": {
      "text/plain": [
       "34"
      ]
     },
     "execution_count": 18,
     "metadata": {},
     "output_type": "execute_result"
    }
   ],
   "source": [
    "a[-5]"
   ]
  },
  {
   "cell_type": "code",
   "execution_count": 19,
   "id": "d5b1ed00-4c53-4e0e-b2db-e9cde6846adb",
   "metadata": {},
   "outputs": [
    {
     "data": {
      "text/plain": [
       "'Dipti'"
      ]
     },
     "execution_count": 19,
     "metadata": {},
     "output_type": "execute_result"
    }
   ],
   "source": [
    "a[-4]"
   ]
  },
  {
   "cell_type": "code",
   "execution_count": null,
   "id": "f30111bc-c7b9-4e88-893d-bd80b341f635",
   "metadata": {},
   "outputs": [],
   "source": []
  }
 ],
 "metadata": {
  "kernelspec": {
   "display_name": "Python 3 (ipykernel)",
   "language": "python",
   "name": "python3"
  },
  "language_info": {
   "codemirror_mode": {
    "name": "ipython",
    "version": 3
   },
   "file_extension": ".py",
   "mimetype": "text/x-python",
   "name": "python",
   "nbconvert_exporter": "python",
   "pygments_lexer": "ipython3",
   "version": "3.12.4"
  }
 },
 "nbformat": 4,
 "nbformat_minor": 5
}
